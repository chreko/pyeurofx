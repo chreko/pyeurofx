{
 "metadata": {
  "name": "",
  "signature": "sha256:0c7efacf8a28eb9d142990ddbd98ad1663b4f7ccc624cc8c534789522dcce909"
 },
 "nbformat": 3,
 "nbformat_minor": 0,
 "worksheets": [
  {
   "cells": [
    {
     "cell_type": "markdown",
     "metadata": {},
     "source": [
      "<a href=\"https://github.com/supercoderz\"><img src=\"https://avatars1.githubusercontent.com/u/8135259?s=200\" align=\"center\"/></a>"
     ]
    },
    {
     "cell_type": "markdown",
     "metadata": {},
     "source": [
      "Visit us at - https://github.com/supercoderz\n",
      "\n",
      "pyeurofx\n",
      "========\n",
      "\n",
      "pyeurofx is a library that allows you to fetch the close prices of various majot currencies vs the Euro.\n",
      "The library provides simple functions that you can invoke and get the data as list of tuples or as pandas data frames.\n",
      "\n",
      "pyeurofx makes use of the following libraries - \n",
      "- requests\n",
      "- lxml\n",
      "- pandas\n",
      "\n",
      "\n",
      "The data is fetched from the following XML sources - \n",
      "\n",
      "- Historical data - 'http://www.ecb.europa.eu/stats/eurofxref/eurofxref-hist.xml'\n",
      "- Daily data - 'http://www.ecb.europa.eu/stats/eurofxref/eurofxref-daily.xml'"
     ]
    },
    {
     "cell_type": "code",
     "collapsed": false,
     "input": [
      "from eurofx import *"
     ],
     "language": "python",
     "metadata": {},
     "outputs": [],
     "prompt_number": 2
    },
    {
     "cell_type": "markdown",
     "metadata": {},
     "source": [
      "Daily data\n",
      "----------\n",
      "\n",
      "You can get the daily data or the historical data. Daily data will be the close price released at 3 PM CET on that day or the prevvious day depending on when you are running the call. Historical close prices will be the close prices for all the days since 1 Apr 1999\n",
      "\n",
      "The daily data is returned as a list of tuples - each tuple is a currency, date, rate pair."
     ]
    },
    {
     "cell_type": "markdown",
     "metadata": {},
     "source": [
      "daily = get_daily_data()\n",
      "print daily"
     ]
    },
    {
     "cell_type": "markdown",
     "metadata": {},
     "source": [
      "Historical data\n",
      "---------------\n",
      "\n",
      "\n",
      "Fetching all the historical data is just one function call - the data is returned just like daily data in a list of tuples."
     ]
    },
    {
     "cell_type": "code",
     "collapsed": false,
     "input": [
      "historical = get_historical_data()\n",
      "print historical.__len__()"
     ],
     "language": "python",
     "metadata": {},
     "outputs": [
      {
       "output_type": "stream",
       "stream": "stdout",
       "text": [
        "124398\n"
       ]
      }
     ],
     "prompt_number": 3
    },
    {
     "cell_type": "markdown",
     "metadata": {},
     "source": [
      "The first date of historical data"
     ]
    },
    {
     "cell_type": "code",
     "collapsed": false,
     "input": [
      "print historical[-1:]"
     ],
     "language": "python",
     "metadata": {},
     "outputs": [
      {
       "output_type": "stream",
       "stream": "stdout",
       "text": [
        "[('ZAR', datetime.date(1999, 1, 4), '6.9358')]\n"
       ]
      }
     ],
     "prompt_number": 4
    },
    {
     "cell_type": "markdown",
     "metadata": {},
     "source": [
      "getting data as pandas data frame\n",
      "---------------------------------\n",
      "\n",
      "you can easily get the data as a pandas data frame by using the _df versions of the daily and historical commands\n",
      "\n",
      "Any date which has a missing data will show up as a NaN in pandas data frame."
     ]
    },
    {
     "cell_type": "code",
     "collapsed": false,
     "input": [
      "daily_df = get_daily_data_df()\n",
      "print daily_df"
     ],
     "language": "python",
     "metadata": {},
     "outputs": [
      {
       "output_type": "stream",
       "stream": "stdout",
       "text": [
        "               USD     JPY     BGN     CZK     DKK      GBP     HUF     LTL  \\\n",
        "2014-07-25  1.3440  136.97  1.9558  27.482  7.4568  0.79115  308.06  3.4528   \n",
        "\n",
        "               PLN     RON   ...       ILS      INR      KRW      MXN     MYR  \\\n",
        "2014-07-25  4.1435  4.3973   ...    4.6004  80.7677  1380.11  17.4162  4.2655   \n",
        "\n",
        "               NZD     PHP     SGD     THB      ZAR  \n",
        "2014-07-25  1.5728  58.199  1.6682  42.780  14.1489  \n",
        "\n",
        "[1 rows x 32 columns]\n"
       ]
      }
     ],
     "prompt_number": 5
    },
    {
     "cell_type": "code",
     "collapsed": false,
     "input": [
      "historical_df = get_historical_data_df()\n",
      "print historical_df.head()"
     ],
     "language": "python",
     "metadata": {},
     "outputs": [
      {
       "output_type": "stream",
       "stream": "stdout",
       "text": [
        "               USD     JPY     BGN     CZK     DKK      GBP     HUF     LTL  \\\n",
        "2014-07-25   1.344  136.97  1.9558  27.482  7.4568  0.79115  308.06  3.4528   \n",
        "2014-07-24  1.3472  136.97  1.9558   27.48  7.4573  0.79215  307.76  3.4528   \n",
        "2014-07-23  1.3465  136.51  1.9558  27.454  7.4569   0.7908  307.15  3.4528   \n",
        "2014-07-22  1.3481  136.93  1.9558  27.485  7.4567   0.7905  309.63  3.4528   \n",
        "2014-07-21  1.3518  136.97  1.9558  27.468  7.4567   0.7915  309.56  3.4528   \n",
        "\n",
        "               PLN     RON   ...        ZAR  LVL  EEK  SKK  ISK  CYP  MTL  \\\n",
        "2014-07-25  4.1435  4.3973   ...    14.1489  NaN  NaN  NaN  NaN  NaN  NaN   \n",
        "2014-07-24  4.1408  4.4068   ...     14.138  NaN  NaN  NaN  NaN  NaN  NaN   \n",
        "2014-07-23   4.134  4.4228   ...    14.1759  NaN  NaN  NaN  NaN  NaN  NaN   \n",
        "2014-07-22  4.1473  4.4396   ...    14.3199  NaN  NaN  NaN  NaN  NaN  NaN   \n",
        "2014-07-21  4.1511  4.4445   ...    14.3647  NaN  NaN  NaN  NaN  NaN  NaN   \n",
        "\n",
        "            SIT  ROL  TRL  \n",
        "2014-07-25  NaN  NaN  NaN  \n",
        "2014-07-24  NaN  NaN  NaN  \n",
        "2014-07-23  NaN  NaN  NaN  \n",
        "2014-07-22  NaN  NaN  NaN  \n",
        "2014-07-21  NaN  NaN  NaN  \n",
        "\n",
        "[5 rows x 41 columns]\n"
       ]
      }
     ],
     "prompt_number": 6
    },
    {
     "cell_type": "markdown",
     "metadata": {},
     "source": [
      "Plotting data\n",
      "-------------\n",
      "\n",
      "Once you the pandas data frame, using matplot lib, you can easily plot data"
     ]
    },
    {
     "cell_type": "code",
     "collapsed": false,
     "input": [
      "import matplotlib.pyplot as plt"
     ],
     "language": "python",
     "metadata": {},
     "outputs": []
    },
    {
     "cell_type": "code",
     "collapsed": false,
     "input": [
      "plt.plot(historical_df['USD'])\n"
     ],
     "language": "python",
     "metadata": {},
     "outputs": [
      {
       "metadata": {},
       "output_type": "pyout",
       "prompt_number": 7,
       "text": [
        "[<matplotlib.lines.Line2D at 0x110c2b090>]"
       ]
      },
      {
       "metadata": {},
       "output_type": "display_data",
       "png": "[encoded data removed]",
       "text": [
        "<matplotlib.figure.Figure at 0x110396990>"
       ]
      }
     ],
     "prompt_number": 7
    }
   ],
   "metadata": {}
  }
 ]
}